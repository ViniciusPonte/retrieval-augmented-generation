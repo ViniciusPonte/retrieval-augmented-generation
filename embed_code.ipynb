{
 "cells": [
  {
   "cell_type": "code",
   "execution_count": 6,
   "metadata": {},
   "outputs": [],
   "source": [
    "from langchain_community.document_loaders.generic import GenericLoader\n",
    "from langchain_community.document_loaders.parsers import LanguageParser\n",
    "from langchain_text_splitters import Language, RecursiveCharacterTextSplitter\n",
    "from langchain_community.vectorstores import Chroma\n",
    "from langchain_openai import OpenAIEmbeddings\n",
    "from langchain_community.chat_models.openai import ChatOpenAI\n",
    "from langchain_core.prompts import ChatPromptTemplate\n",
    "from langchain.chains import create_retrieval_chain\n",
    "from langchain.chains.combine_documents import create_stuff_documents_chain"
   ]
  },
  {
   "cell_type": "code",
   "execution_count": 7,
   "metadata": {},
   "outputs": [],
   "source": [
    "import os\n",
    "\n",
    "from git import Repo"
   ]
  },
  {
   "cell_type": "code",
   "execution_count": 8,
   "metadata": {},
   "outputs": [],
   "source": [
    "repo_path = \"./test_repo\""
   ]
  },
  {
   "cell_type": "code",
   "execution_count": 9,
   "metadata": {},
   "outputs": [],
   "source": [
    "repo = Repo.clone_from(\"https://github.com/ViniciusPonte/devstore-ignite\",  to_path=repo_path)"
   ]
  },
  {
   "cell_type": "code",
   "execution_count": 10,
   "metadata": {},
   "outputs": [
    {
     "data": {
      "text/plain": [
       "9"
      ]
     },
     "execution_count": 10,
     "metadata": {},
     "output_type": "execute_result"
    }
   ],
   "source": [
    "loader = GenericLoader.from_filesystem(\n",
    "    repo_path + \"/src/app\",\n",
    "    glob=\"**/*\",\n",
    "    suffixes=[\".tsx\"],\n",
    "    exclude=[\"**/non-utf-8-encoding.tsx\"],\n",
    "    parser=LanguageParser(language=Language.TS, parser_threshold=500)\n",
    ")\n",
    "\n",
    "documents = loader.load()\n",
    "len(documents)"
   ]
  },
  {
   "cell_type": "code",
   "execution_count": 11,
   "metadata": {},
   "outputs": [
    {
     "name": "stdout",
     "output_type": "stream",
     "text": [
      "[Document(metadata={'source': 'test_repo/src/app/layout.tsx', 'language': <Language.TS: 'ts'>}, page_content='import type { Metadata } from \\'next\\'\\nimport { Inter } from \\'next/font/google\\'\\nimport \\'./globals.css\\'\\n\\nconst inter = Inter({ subsets: [\\'latin\\'], variable: \\'--font-inter\\' })\\n\\nexport const metadata: Metadata = {\\n  title: {\\n    template: \\'%s | devstore\\',\\n    default: \\'devstore\\',\\n  },\\n}\\n\\nexport default function RootLayout({\\n  children,\\n}: {\\n  children: React.ReactNode\\n}) {\\n  return (\\n    <html className={inter.variable} lang=\"pt\">\\n      <body className=\"bg-zinc-950 text-zinc-50 antialiased\">{children}</body>\\n    </html>\\n  )\\n}'), Document(metadata={'source': 'test_repo/src/app/(store)/layout.tsx', 'language': <Language.TS: 'ts'>}, page_content='import { Header } from \\'@/components/header\\'\\nimport { CartProvider } from \\'@/contexts/cart-context\\'\\nimport { ReactNode } from \\'react\\'\\n\\nexport default function StoreLayout({ children }: { children: ReactNode }) {\\n  return (\\n    <CartProvider>\\n      <div className=\"mx-auto grid min-h-screen w-full max-w-[1600px] grid-rows-[min-content_max-content] gap-5 p-8\">\\n        <Header />\\n        {children}\\n      </div>\\n    </CartProvider>\\n  )\\n}'), Document(metadata={'source': 'test_repo/src/app/(store)/(home)/loading.tsx', 'language': <Language.TS: 'ts'>}, page_content='import { Skeleton } from \\'@/components/skeleton\\'\\n\\nexport default function HomeLoading() {\\n  return (\\n    <div className=\"grid h-full grid-cols-9 grid-rows-6 gap-6\">\\n      <Skeleton className=\"col-span-6 row-span-6 h-[856px]\" />\\n      <Skeleton className=\"col-span-3 row-span-3\" />\\n      <Skeleton className=\"col-span-3 row-span-3\" />\\n    </div>\\n  )\\n}'), Document(metadata={'source': 'test_repo/src/app/(store)/(home)/page.tsx', 'language': <Language.TS: 'ts'>}, page_content='import { ProductCard } from \\'@/components/product-card\\'\\nimport { api } from \\'@/data/api\\'\\nimport { Product } from \\'@/data/types/products\\'\\nimport { Metadata } from \\'next\\'\\n\\nasync function getFeaturedProducts(): Promise<Product[]> {\\n  const response = await api(\\'/product/featured\\', {\\n    next: {\\n      revalidate: 60 * 60, // 1 hour\\n    },\\n  })\\n\\n  const products = await response.json()\\n\\n  return products\\n}\\n\\nexport const metadata: Metadata = {\\n  title: \\'Home\\',\\n}\\n\\nexport default async function Home() {\\n  const [highlightedProduct, ...otherProducts] = await getFeaturedProducts()\\n\\n  return (\\n    <div className=\"grid max-h-[860px] grid-cols-9 grid-rows-6 gap-6\">\\n      <ProductCard\\n        id={highlightedProduct.id}\\n        image={highlightedProduct.image}\\n        price={highlightedProduct.price}\\n        slug={highlightedProduct.slug}\\n        title={highlightedProduct.title}\\n        variant=\"lg\"\\n      />\\n\\n      {otherProducts.map((product) => {\\n        return (\\n          <ProductCard\\n            key={product.id}\\n            id={product.id}\\n            image={product.image}\\n            price={product.price}\\n            slug={product.slug}\\n            title={product.title}\\n            variant=\"md\"\\n          />\\n        )\\n      })}\\n    </div>\\n  )\\n}'), Document(metadata={'source': 'test_repo/src/app/(store)/search/current-search.tsx', 'language': <Language.TS: 'ts'>}, page_content='\\'use client\\'\\n\\nimport { useSearchParams } from \\'next/navigation\\'\\n\\nexport function CurrentSearch() {\\n  const searchParams = useSearchParams()\\n\\n  const query = searchParams.get(\\'q\\')\\n\\n  return (\\n    <p>\\n      Resultados para: <span className=\"font-semibold\">{query}</span>\\n    </p>\\n  )\\n}'), Document(metadata={'source': 'test_repo/src/app/(store)/search/loading.tsx', 'language': <Language.TS: 'ts'>}, page_content='import { Skeleton } from \\'@/components/skeleton\\'\\nimport { Suspense } from \\'react\\'\\nimport { CurrentSearch } from \\'./current-search\\'\\n\\nexport default function SearchLoading() {\\n  return (\\n    <div className=\"flex flex-col gap-4 \">\\n      <Suspense fallback={null}>\\n        <CurrentSearch />\\n      </Suspense>\\n\\n      <div className=\"grid grid-cols-3 gap-6\">\\n        <Skeleton className=\"h-[380px]\" />\\n        <Skeleton className=\"h-[380px]\" />\\n        <Skeleton className=\"h-[380px]\" />\\n        <Skeleton className=\"h-[380px]\" />\\n        <Skeleton className=\"h-[380px]\" />\\n        <Skeleton className=\"h-[380px]\" />\\n      </div>\\n    </div>\\n  )\\n}'), Document(metadata={'source': 'test_repo/src/app/(store)/search/page.tsx', 'language': <Language.TS: 'ts'>}, page_content='import { ProductCard } from \\'@/components/product-card\\'\\nimport { api } from \\'@/data/api\\'\\nimport { Product } from \\'@/data/types/products\\'\\nimport { redirect } from \\'next/navigation\\'\\n\\ninterface SearchProps {\\n  searchParams: {\\n    q: string\\n  }\\n}\\n\\nasync function searchProducts(query: string): Promise<Product[]> {\\n  const response = await api(`/product/search?q=${query}`, {\\n    next: {\\n      revalidate: 60 * 60, // 1 hour\\n    },\\n  })\\n\\n  const products = await response.json()\\n\\n  return products\\n}\\n\\nexport default async function Search({ searchParams }: SearchProps) {\\n  const { q: query } = searchParams\\n\\n  if (!query) {\\n    redirect(\\'/\\')\\n  }\\n\\n  const products = await searchProducts(query)\\n\\n  return (\\n    <div className=\"flex flex-col gap-4\">\\n      <p className=\"text-sm\">\\n        Resultados para: <span className=\"font-semibold\">{query}</span>\\n      </p>\\n\\n      <div className=\"grid grid-cols-3 gap-6\">\\n        {products.map((product) => {\\n          return (\\n            <ProductCard\\n              key={product.id}\\n              id={product.id}\\n              image={product.image}\\n              price={product.price}\\n              slug={product.slug}\\n              title={product.title}\\n            />\\n          )\\n        })}\\n      </div>\\n    </div>\\n  )\\n}'), Document(metadata={'source': 'test_repo/src/app/(store)/product/[slug]/opengraph-image.tsx', 'language': <Language.TS: 'ts'>}, page_content=\"/* eslint-disable @next/next/no-img-element */\\nimport { ImageResponse } from 'next/og'\\nimport { ProductProps } from './interface'\\nimport { getProduct } from './page'\\nimport colors from 'tailwindcss/colors'\\nimport { env } from '@/env'\\n\\nexport const runtime = 'edge'\\n\\nexport const alt = 'About Acme'\\n\\nexport const size = {\\n  width: 1200,\\n  height: 630,\\n}\\n\\nexport const contentType = 'image/png'\\n\\nexport default async function OgImage({ params }: ProductProps) {\\n  const product = await getProduct(params.slug)\\n\\n  const productImageURL = new URL(product.image, env.APP_URL).toString()\\n\\n  return new ImageResponse(\\n    (\\n      <div\\n        style={{\\n          background: colors.zinc[950],\\n          width: '100%',\\n          height: '100%',\\n          display: 'flex',\\n          flexDirection: 'column',\\n        }}\\n      >\\n        <img\\n          src={productImageURL}\\n          alt={product.title}\\n          style={{ width: '100%' }}\\n        />\\n      </div>\\n    ),\\n    {\\n      ...size,\\n    },\\n  )\\n}\"), Document(metadata={'source': 'test_repo/src/app/(store)/product/[slug]/page.tsx', 'language': <Language.TS: 'ts'>}, page_content='import { api } from \\'@/data/api\\'\\nimport { Product } from \\'@/data/types/products\\'\\nimport Image from \\'next/image\\'\\nimport { ProductProps } from \\'./interface\\'\\nimport { Metadata } from \\'next\\'\\nimport { AddToCartButton } from \\'@/components/add-to-cart-button\\'\\n\\nexport async function getProduct(slug: string): Promise<Product> {\\n  const response = await api(`/product/${slug}`, {\\n    next: {\\n      revalidate: 60 * 60, // 1 hour\\n    },\\n  })\\n\\n  const product = await response.json()\\n\\n  return product\\n}\\n\\nexport async function generateMetadata({\\n  params,\\n}: ProductProps): Promise<Metadata> {\\n  const product = await getProduct(params.slug)\\n\\n  return {\\n    title: product.title,\\n  }\\n}\\n\\nexport async function generateStaticParams() {\\n  const response = await api(\\'/product/featured\\')\\n  const products: Product[] = await response.json()\\n\\n  // return [{slug: \\'moletom-never-stop-learning\\'}]\\n\\n  return products.map((product) => {\\n    return { slug: product.slug }\\n  })\\n\\n  // npm run build\\n  // usar para coisas importantes, como rotas mais acessadas\\n}\\n\\nexport default async function ProductPage({ params }: ProductProps) {\\n  const product = await getProduct(params.slug)\\n\\n  return (\\n    <div className=\"relative grid max-h-[860px] grid-cols-3\">\\n      <div className=\"col-span-2 overflow-hidden\">\\n        <Image\\n          src={product.image}\\n          alt={product.title}\\n          width={1000}\\n          height={1000}\\n          quality={100}\\n        />\\n      </div>'), Document(metadata={'source': 'test_repo/src/app/(store)/product/[slug]/page.tsx', 'language': <Language.TS: 'ts'>}, page_content='<div className=\"flex flex-col justify-center px-12\">\\n        <h1 className=\"text-3xl font-bold leading-tight\">{product.title}</h1>\\n        <p className=\"mt-2 leading-relaxed text-zinc-400\">\\n          {product.description}\\n        </p>\\n\\n        <div className=\"mt-8 flex items-center gap-3\">\\n          <span className=\"inline-block px-5 py-2.5 font-semibold rounded-full bg-violet-500\">\\n            {product.price?.toLocaleString(\\'pt-BR\\', {\\n              style: \\'currency\\',\\n              currency: \\'BRL\\',\\n              minimumFractionDigits: 0,\\n              maximumFractionDigits: 0,\\n            })}\\n          </span>\\n          <span className=\"text-sm text-zinc-400\">\\n            Em até 12x s/juros de{\\' \\'}\\n            {(product.price / 12).toLocaleString(\\'pt-BR\\', {\\n              style: \\'currency\\',\\n              currency: \\'BRL\\',\\n            })}\\n          </span>\\n        </div>\\n\\n        <div className=\"mt-8 space-y-4\">\\n          <span className=\"block font-semibold\">Tamanhos</span>'), Document(metadata={'source': 'test_repo/src/app/(store)/product/[slug]/page.tsx', 'language': <Language.TS: 'ts'>}, page_content='<div className=\"mt-8 space-y-4\">\\n          <span className=\"block font-semibold\">Tamanhos</span>\\n\\n          <div className=\"flex gap-2\">\\n            <button\\n              type=\"button\"\\n              className=\"flex h-9 w-14 items-center justify-center rounded-full border border-zinc-700 bg-zinc-900 text-sm font-semibold\"\\n            >\\n              P\\n            </button>\\n            <button\\n              type=\"button\"\\n              className=\"flex h-9 w-14 items-center justify-center rounded-full border border-zinc-700 bg-zinc-900 text-sm font-semibold\"\\n            >\\n              M\\n            </button>\\n            <button\\n              type=\"button\"\\n              className=\"flex h-9 w-14 items-center justify-center rounded-full border border-zinc-700 bg-zinc-900 text-sm font-semibold\"\\n            >\\n              G\\n            </button>\\n            <button\\n              type=\"button\"\\n              className=\"flex h-9 w-14 items-center justify-center rounded-full border border-zinc-700 bg-zinc-900 text-sm font-semibold\"\\n            >\\n              GG\\n            </button>\\n          </div>\\n        </div>\\n\\n        <AddToCartButton productId={product.id} />\\n      </div>\\n    </div>\\n  )\\n}')]\n"
     ]
    }
   ],
   "source": [
    "python_splitter = RecursiveCharacterTextSplitter.from_language(\n",
    "    language=Language.TS, chunk_size = 1500, chunk_overlap = 200\n",
    ")\n",
    "\n",
    "texts = python_splitter.split_documents(documents=documents)\n",
    "len(texts)\n",
    "print(texts)"
   ]
  },
  {
   "cell_type": "code",
   "execution_count": 12,
   "metadata": {},
   "outputs": [],
   "source": [
    "os.environ[\"OPENAI_API_KEY\"] = \"\""
   ]
  },
  {
   "cell_type": "code",
   "execution_count": 13,
   "metadata": {},
   "outputs": [
    {
     "name": "stderr",
     "output_type": "stream",
     "text": [
      "/var/folders/t9/2wfh8wr96y910pmrrcxplfb00000gn/T/ipykernel_2407/1920532231.py:5: LangChainDeprecationWarning: The class `Chroma` was deprecated in LangChain 0.2.9 and will be removed in 1.0. An updated version of the class exists in the :class:`~langchain-chroma package and should be used instead. To use it run `pip install -U :class:`~langchain-chroma` and import as `from :class:`~langchain_chroma import Chroma``.\n",
      "  vectordb = Chroma(persist_directory=\"db_code_texts\", embedding_function=embedding)\n"
     ]
    }
   ],
   "source": [
    "embedding = OpenAIEmbeddings(disallowed_special=())\n",
    "\n",
    "db = Chroma.from_documents(texts, embedding=embedding, persist_directory=\"db_code_texts\")\n",
    "\n",
    "vectordb = Chroma(persist_directory=\"db_code_texts\", embedding_function=embedding)\n",
    "\n",
    "retriever = vectordb.as_retriever(search_type=\"mmr\", search_kwargs={\"k\": 8})"
   ]
  },
  {
   "cell_type": "code",
   "execution_count": 14,
   "metadata": {},
   "outputs": [
    {
     "name": "stderr",
     "output_type": "stream",
     "text": [
      "/var/folders/t9/2wfh8wr96y910pmrrcxplfb00000gn/T/ipykernel_2407/1082775704.py:1: LangChainDeprecationWarning: The class `ChatOpenAI` was deprecated in LangChain 0.0.10 and will be removed in 1.0. An updated version of the class exists in the :class:`~langchain-openai package and should be used instead. To use it run `pip install -U :class:`~langchain-openai` and import as `from :class:`~langchain_openai import ChatOpenAI``.\n",
      "  llm = ChatOpenAI(model_name=\"gpt-3.5-turbo\", max_tokens=200)\n"
     ]
    }
   ],
   "source": [
    "llm = ChatOpenAI(model_name=\"gpt-3.5-turbo\", max_tokens=200)"
   ]
  },
  {
   "cell_type": "code",
   "execution_count": 15,
   "metadata": {},
   "outputs": [],
   "source": [
    "prompt = ChatPromptTemplate.from_messages(\n",
    "    [\n",
    "        (\n",
    "            \"system\",\n",
    "            \"Você é um revisor de código experiente. Forneça informações detalhadas sobre a revisão do código e sugestões de melhorias baseado no contexto fornecido abaixo: \\n\\n {context}.\"\n",
    "        ),\n",
    "        (\"user\", \"{input}\")\n",
    "    ]\n",
    ")\n",
    "\n",
    "document_chain = create_stuff_documents_chain(llm=llm, prompt=prompt)\n",
    "\n",
    "retrieval_chain = create_retrieval_chain(retriever, document_chain)"
   ]
  },
  {
   "cell_type": "code",
   "execution_count": 17,
   "metadata": {},
   "outputs": [
    {
     "name": "stdout",
     "output_type": "stream",
     "text": [
      "1. **Componente `CurrentSearch`**:\n",
      "   - O componente parece estar bem estruturado e não há problemas aparentes.\n",
      "   - Você pode considerar adicionar um tratamento de erro caso `query` seja `null`.\n",
      "\n",
      "2. **Componente `RootLayout`**:\n",
      "   - O componente parece estar bem estruturado e não há problemas aparentes.\n",
      "   - Verifique se a importação de `Inter` está correta e se a variável `inter` está sendo utilizada corretamente.\n",
      "\n",
      "3. **Função `getProduct`**:\n",
      "   - A função parece estar bem implementada e não há problemas aparentes.\n",
      "   - Certifique-se de que a API `/product/${slug}` está retornando os dados esperados.\n",
      "\n",
      "4. **Função `generateMetadata`**:\n",
      "   - A função parece estar bem implementada e não há problemas aparentes.\n",
      "   - Certifique-se de que a função `\n"
     ]
    }
   ],
   "source": [
    "response = retrieval_chain.invoke({\"input\": \"Você pode revisar e sugerir melhorias para os componentes desse código?\"})\n",
    "\n",
    "print(response['answer'])"
   ]
  }
 ],
 "metadata": {
  "kernelspec": {
   "display_name": "Python 3",
   "language": "python",
   "name": "python3"
  },
  "language_info": {
   "codemirror_mode": {
    "name": "ipython",
    "version": 3
   },
   "file_extension": ".py",
   "mimetype": "text/x-python",
   "name": "python",
   "nbconvert_exporter": "python",
   "pygments_lexer": "ipython3",
   "version": "3.13.1"
  }
 },
 "nbformat": 4,
 "nbformat_minor": 2
}
